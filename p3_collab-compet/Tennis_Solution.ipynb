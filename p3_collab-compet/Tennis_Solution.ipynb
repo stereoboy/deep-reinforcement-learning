{
 "cells": [
  {
   "cell_type": "markdown",
   "metadata": {},
   "source": [
    "# Collaboration and Competition\n",
    "\n",
    "---\n",
    "\n",
    "In this notebook, you will learn how to use the Unity ML-Agents environment for the third project of the [Deep Reinforcement Learning Nanodegree](https://www.udacity.com/course/deep-reinforcement-learning-nanodegree--nd893) program.\n",
    "\n",
    "### 1. Start the Environment\n",
    "\n",
    "We begin by importing the necessary packages.  If the code cell below returns an error, please revisit the project instructions to double-check that you have installed [Unity ML-Agents](https://github.com/Unity-Technologies/ml-agents/blob/master/docs/Installation.md) and [NumPy](http://www.numpy.org/)."
   ]
  },
  {
   "cell_type": "code",
   "execution_count": 1,
   "metadata": {},
   "outputs": [],
   "source": [
    "from unityagents import UnityEnvironment\n",
    "import numpy as np"
   ]
  },
  {
   "cell_type": "markdown",
   "metadata": {},
   "source": [
    "Next, we will start the environment!  **_Before running the code cell below_**, change the `file_name` parameter to match the location of the Unity environment that you downloaded.\n",
    "\n",
    "- **Mac**: `\"path/to/Tennis.app\"`\n",
    "- **Windows** (x86): `\"path/to/Tennis_Windows_x86/Tennis.exe\"`\n",
    "- **Windows** (x86_64): `\"path/to/Tennis_Windows_x86_64/Tennis.exe\"`\n",
    "- **Linux** (x86): `\"path/to/Tennis_Linux/Tennis.x86\"`\n",
    "- **Linux** (x86_64): `\"path/to/Tennis_Linux/Tennis.x86_64\"`\n",
    "- **Linux** (x86, headless): `\"path/to/Tennis_Linux_NoVis/Tennis.x86\"`\n",
    "- **Linux** (x86_64, headless): `\"path/to/Tennis_Linux_NoVis/Tennis.x86_64\"`\n",
    "\n",
    "For instance, if you are using a Mac, then you downloaded `Tennis.app`.  If this file is in the same folder as the notebook, then the line below should appear as follows:\n",
    "```\n",
    "env = UnityEnvironment(file_name=\"Tennis.app\")\n",
    "```"
   ]
  },
  {
   "cell_type": "code",
   "execution_count": 2,
   "metadata": {},
   "outputs": [
    {
     "name": "stderr",
     "output_type": "stream",
     "text": [
      "INFO:unityagents:\n",
      "'Academy' started successfully!\n",
      "Unity Academy name: Academy\n",
      "        Number of Brains: 1\n",
      "        Number of External Brains : 1\n",
      "        Lesson number : 0\n",
      "        Reset Parameters :\n",
      "\t\t\n",
      "Unity brain name: TennisBrain\n",
      "        Number of Visual Observations (per agent): 0\n",
      "        Vector Observation space type: continuous\n",
      "        Vector Observation space size (per agent): 8\n",
      "        Number of stacked Vector Observation: 3\n",
      "        Vector Action space type: continuous\n",
      "        Vector Action space size (per agent): 2\n",
      "        Vector Action descriptions: , \n"
     ]
    }
   ],
   "source": [
    "env = UnityEnvironment(file_name=\"./Tennis_Linux/Tennis.x86_64\")"
   ]
  },
  {
   "cell_type": "markdown",
   "metadata": {},
   "source": [
    "Environments contain **_brains_** which are responsible for deciding the actions of their associated agents. Here we check for the first brain available, and set it as the default brain we will be controlling from Python."
   ]
  },
  {
   "cell_type": "code",
   "execution_count": 3,
   "metadata": {},
   "outputs": [],
   "source": [
    "# get the default brain\n",
    "brain_name = env.brain_names[0]\n",
    "brain = env.brains[brain_name]"
   ]
  },
  {
   "cell_type": "markdown",
   "metadata": {},
   "source": [
    "### 2. Examine the State and Action Spaces\n",
    "\n",
    "In this environment, two agents control rackets to bounce a ball over a net. If an agent hits the ball over the net, it receives a reward of +0.1.  If an agent lets a ball hit the ground or hits the ball out of bounds, it receives a reward of -0.01.  Thus, the goal of each agent is to keep the ball in play.\n",
    "\n",
    "The observation space consists of 8 variables corresponding to the position and velocity of the ball and racket. Two continuous actions are available, corresponding to movement toward (or away from) the net, and jumping. \n",
    "\n",
    "Run the code cell below to print some information about the environment."
   ]
  },
  {
   "cell_type": "code",
   "execution_count": 4,
   "metadata": {},
   "outputs": [
    {
     "name": "stdout",
     "output_type": "stream",
     "text": [
      "Number of agents: 2\n",
      "Size of each action: 2\n",
      "There are 2 agents. Each observes a state with length: 24\n",
      "The state for the first agent looks like: [ 0.          0.          0.          0.          0.          0.\n",
      "  0.          0.          0.          0.          0.          0.\n",
      "  0.          0.          0.          0.         -6.65278625 -1.5\n",
      " -0.          0.          6.83172083  6.         -0.          0.        ]\n"
     ]
    }
   ],
   "source": [
    "# reset the environment\n",
    "env_info = env.reset(train_mode=True)[brain_name]\n",
    "\n",
    "# number of agents \n",
    "num_agents = len(env_info.agents)\n",
    "print('Number of agents:', num_agents)\n",
    "\n",
    "# size of each action\n",
    "action_size = brain.vector_action_space_size\n",
    "print('Size of each action:', action_size)\n",
    "\n",
    "# examine the state space \n",
    "states = env_info.vector_observations\n",
    "state_size = states.shape[1]\n",
    "print('There are {} agents. Each observes a state with length: {}'.format(states.shape[0], state_size))\n",
    "print('The state for the first agent looks like:', states[0])"
   ]
  },
  {
   "cell_type": "markdown",
   "metadata": {},
   "source": [
    "### 3. Solution"
   ]
  },
  {
   "cell_type": "code",
   "execution_count": 5,
   "metadata": {},
   "outputs": [
    {
     "name": "stderr",
     "output_type": "stream",
     "text": [
      "/home/rofox/work/udacity/rl/venv/lib/python3.5/site-packages/torch/nn/functional.py:1320: UserWarning: nn.functional.tanh is deprecated. Use torch.tanh instead.\n",
      "  warnings.warn(\"nn.functional.tanh is deprecated. Use torch.tanh instead.\")\n"
     ]
    },
    {
     "name": "stdout",
     "output_type": "stream",
     "text": [
      "Episode 50\tAverage Score: 0.00\t00:00:19\n",
      "Episode 100\tAverage Score: 0.00\t00:00:38\n",
      "Episode 150\tAverage Score: 0.00\t00:00:58\n",
      "Episode 200\tAverage Score: 0.00\t00:01:20\n",
      "Episode 250\tAverage Score: 0.01\t00:01:48\n",
      "Episode 300\tAverage Score: 0.02\t00:02:13\n",
      "Episode 350\tAverage Score: 0.07\t00:03:18\n",
      "Episode 400\tAverage Score: 0.21\t00:06:01\n",
      "Episode 450\tAverage Score: 0.28\t00:08:19\n",
      "Episode 500\tAverage Score: 0.61\t00:16:57\n",
      "Episode 550\tAverage Score: 1.27\t00:30:59\n",
      "Episode 600\tAverage Score: 1.16\t00:37:40\n",
      "Episode 650\tAverage Score: 0.90\t00:47:11\n",
      "Episode 700\tAverage Score: 1.10\t00:57:21\n",
      "Episode 750\tAverage Score: 0.97\t01:04:38\n",
      "Episode 800\tAverage Score: 1.06\t01:16:20\n",
      "Episode 850\tAverage Score: 1.17\t01:25:27\n",
      "Episode 900\tAverage Score: 1.02\t01:34:35\n",
      "Episode 950\tAverage Score: 1.10\t01:45:32\n",
      "Episode 1000\tAverage Score: 1.07\t01:54:25\n",
      "Episode 1050\tAverage Score: 1.13\t02:06:27\n",
      "Episode 1100\tAverage Score: 1.21\t02:16:31\n",
      "Episode 1150\tAverage Score: 1.43\t02:32:37\n",
      "Episode 1165\tAverage Score: 1.51\t02:38:10\n",
      "Environment solved in 1065 episodes!\tAverage Score: 1.51\n"
     ]
    }
   ],
   "source": [
    "import time\n",
    "import random\n",
    "import torch\n",
    "from collections import deque\n",
    "import matplotlib.pyplot as plt\n",
    "\n",
    "from ddpg.ddpg_agent import NoisyAgent\n",
    "\n",
    "#agent = Agent(num_agents=num_agents, state_size=state_size, action_size=action_size, random_seed=2)\n",
    "agent = NoisyAgent(num_agents=num_agents, state_size=state_size, action_size=action_size, random_seed=2)\n",
    "\n",
    "def ddpg(n_episodes=2000):\n",
    "    scores_deque = deque(maxlen=100)\n",
    "    scores = []\n",
    "    mean_scores = []\n",
    "    start = time.time()\n",
    "    for i_episode in range(1, n_episodes+1):\n",
    "        agent.reset()\n",
    "        # reset the environment\n",
    "        env_info = env.reset(train_mode=True)[brain_name]\n",
    "        states = env_info.vector_observations\n",
    "\n",
    "        add_noise=True\n",
    "        score = np.zeros(num_agents)\n",
    "\n",
    "        while True:\n",
    "            actions = agent.act(states)                        # select an action (for each agent)\n",
    "            env_info = env.step(actions)[brain_name]           # send all actions to tne environment\n",
    "            next_states = env_info.vector_observations         # get next state (for each agent)\n",
    "            rewards = env_info.rewards                         # get reward (for each agent)\n",
    "            dones = env_info.local_done                        # see if episode finished\n",
    "            for i in range(num_agents):\n",
    "                agent.step(states[i], actions[i], rewards[i], next_states[i], dones[i])\n",
    "            num_update = 5\n",
    "            for _ in range(num_update):\n",
    "                agent.update()\n",
    "            states = next_states\n",
    "            score += np.array(rewards)\n",
    "            if np.any(dones):\n",
    "                break\n",
    "\n",
    "        max_score = np.max(score)\n",
    "        scores_deque.append(max_score)\n",
    "        scores.append(np.max(score))\n",
    "        mean_scores.append(np.mean(scores_deque))\n",
    "\n",
    "        current = time.time()\n",
    "        elapsed = current - start\n",
    "        elapsed_str = time.strftime(\"%H:%M:%S\", time.gmtime(elapsed))\n",
    "        print('\\rEpisode {}\\tAverage Score: {:.2f}\\t{}'.format(i_episode, np.mean(scores_deque), elapsed_str), end=\"\")\n",
    "        if i_episode%50 == 0:\n",
    "            print('\\rEpisode {}\\tAverage Score: {:.2f}\\t{}'.format(i_episode, np.mean(scores_deque), elapsed_str))\n",
    "        if np.mean(scores_deque) > 1.5:\n",
    "            print('\\nEnvironment solved in {:d} episodes!\\tAverage Score: {:.2f}'.format(i_episode-100, np.mean(scores_deque)))\n",
    "            break\n",
    "    torch.save(agent.actor_local.state_dict(), 'checkpoint_actor.pth')\n",
    "    torch.save(agent.critic_local.state_dict(), 'checkpoint_critic.pth')\n",
    "\n",
    "    return scores, mean_scores\n",
    "\n",
    "scores, mean_scores = ddpg()"
   ]
  },
  {
   "cell_type": "code",
   "execution_count": 6,
   "metadata": {},
   "outputs": [
    {
     "data": {
      "image/png": "[encoded data removed]",
      "text/plain": [
       "<Figure size 432x288 with 1 Axes>"
      ]
     },
     "metadata": {
      "needs_background": "light"
     },
     "output_type": "display_data"
    }
   ],
   "source": [
    "fig = plt.figure()\n",
    "ax = fig.add_subplot(111)\n",
    "plt.plot(np.arange(1, len(scores)+1), scores, color='blue')\n",
    "plt.plot(np.arange(1, len(mean_scores)+1), mean_scores, color='orange')\n",
    "plt.ylabel('Score')\n",
    "plt.xlabel('Episode #')\n",
    "plt.show()"
   ]
  },
  {
   "cell_type": "markdown",
   "metadata": {},
   "source": [
    "### 4. Play"
   ]
  },
  {
   "cell_type": "code",
   "execution_count": 7,
   "metadata": {},
   "outputs": [
    {
     "name": "stdout",
     "output_type": "stream",
     "text": [
      "Episode 0\tAverage Score: 0.10\t00:00:01\n",
      "Episode 1\tAverage Score: 0.10\t00:00:07\n",
      "Episode 2\tAverage Score: 0.93\t00:01:48\n"
     ]
    }
   ],
   "source": [
    "import time\n",
    "import torch\n",
    "from collections import deque\n",
    "from ddpg.ddpg_agent import NoisyAgent\n",
    "\n",
    "agent = NoisyAgent(num_agents=num_agents, state_size=state_size, action_size=action_size, random_seed=2)\n",
    "agent.actor_local.load_state_dict(torch.load('checkpoint_actor.pth'))\n",
    "agent.critic_local.load_state_dict(torch.load('checkpoint_critic.pth'))\n",
    "\n",
    "scores_deque = deque(maxlen=100)\n",
    "\n",
    "start = time.time()\n",
    "\n",
    "for i_episode in range(3):\n",
    "    agent.reset()\n",
    "    # reset the environment\n",
    "    env_info = env.reset(train_mode=False)[brain_name]\n",
    "    states = env_info.vector_observations\n",
    "\n",
    "    score = np.zeros(num_agents)\n",
    "    while True:\n",
    "        actions = agent.act(states, add_noise=False)   # select an action (for each agent)\n",
    "        env_info = env.step(actions)[brain_name]           # send all actions to tne environment\n",
    "        next_states = env_info.vector_observations         # get next state (for each agent)\n",
    "        rewards = env_info.rewards                         # get reward (for each agent)\n",
    "        dones = env_info.local_done                        # see if episode finished\n",
    "        for i in range(num_agents):\n",
    "            agent.step(states[i], actions[i], rewards[i], next_states[i], dones[i])\n",
    "        states = next_states\n",
    "        score += np.array(rewards)\n",
    "        if np.any(dones):\n",
    "            break \n",
    "\n",
    "    max_score = np.max(score)\n",
    "    scores_deque.append(max_score)\n",
    "    scores.append(np.max(score))\n",
    "    mean_scores.append(np.mean(scores_deque))\n",
    "\n",
    "    current = time.time()\n",
    "    elapsed = current - start\n",
    "    elapsed_str = time.strftime(\"%H:%M:%S\", time.gmtime(elapsed))\n",
    "    print('\\rEpisode {}\\tAverage Score: {:.2f}\\t{}'.format(i_episode, np.mean(scores_deque), elapsed_str))"
   ]
  },
  {
   "cell_type": "markdown",
   "metadata": {},
   "source": [
    "When finished, you can close the environment."
   ]
  },
  {
   "cell_type": "code",
   "execution_count": 8,
   "metadata": {},
   "outputs": [],
   "source": [
    "env.close()"
   ]
  }
 ],
 "metadata": {
  "kernelspec": {
   "display_name": "Python 3",
   "language": "python",
   "name": "python3"
  },
  "language_info": {
   "codemirror_mode": {
    "name": "ipython",
    "version": 3
   },
   "file_extension": ".py",
   "mimetype": "text/x-python",
   "name": "python",
   "nbconvert_exporter": "python",
   "pygments_lexer": "ipython3",
   "version": "3.5.2"
  }
 },
 "nbformat": 4,
 "nbformat_minor": 2
}
